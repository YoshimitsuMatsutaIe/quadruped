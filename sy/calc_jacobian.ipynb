{
 "cells": [
  {
   "cell_type": "markdown",
   "metadata": {},
   "source": [
    "# 足先（エンドエフェクタ）のジョイント角度ベクトルによるヤコビ行列の導出"
   ]
  },
  {
   "cell_type": "code",
   "execution_count": 20,
   "metadata": {},
   "outputs": [],
   "source": [
    "import sympy as sy\n",
    "from sympy import pi, cos, sin, tan\n",
    "from IPython.display import display"
   ]
  },
  {
   "cell_type": "code",
   "execution_count": 21,
   "metadata": {},
   "outputs": [],
   "source": [
    "# 式を定義\n",
    "q1 = sy.Symbol(\"q1\")\n",
    "q2 = sy.Symbol(\"q2\")\n",
    "q3 = sy.Symbol(\"q3\")\n",
    "\n",
    "qvec = sy.Matrix([[q1, q2, q3,]]).T\n",
    "\n",
    "\n",
    "l1 = sy.Symbol(\"l1\")\n",
    "l2 = sy.Symbol(\"l2\")\n",
    "l3 = sy.Symbol(\"l2\")\n",
    "l4 = sy.Symbol(\"l2\")\n",
    "\n",
    "\n",
    "\n",
    "D1 = sy.Matrix([\n",
    "        [cos(q1), -sin(q1), 0],\n",
    "        [sin(q1), cos(q1), 0],\n",
    "        [0, 0, 1],\n",
    "    ])\n",
    "\n",
    "D2 = sy.Matrix([\n",
    "        [1, 0, l1],\n",
    "        [0, 1, 0],\n",
    "        [0, 0, 1],\n",
    "    ])\n",
    "\n",
    "D3 = sy.Matrix([\n",
    "        [cos(q2), -sin(q2), 0],\n",
    "        [sin(q2), cos(q2), 0],\n",
    "        [0, 0, 1],\n",
    "    ])\n",
    "\n",
    "D4 = sy.Matrix([\n",
    "        [1, 0, l2],\n",
    "        [0, 1, 0],\n",
    "        [0, 0, 1],\n",
    "    ])\n",
    "\n",
    "\n",
    "theta = 270/180*pi\n",
    "D5 = sy.Matrix([\n",
    "        [cos(theta), -sin(theta), 0],\n",
    "        [sin(theta), cos(theta), 0],\n",
    "        [0, 0, 1],\n",
    "    ])\n",
    "\n",
    "D6 = sy.Matrix([\n",
    "        [1, 0, l3],\n",
    "        [0, 1, 0],\n",
    "        [0, 0, 1],\n",
    "    ])\n",
    "\n",
    "D7 = sy.Matrix([\n",
    "        [cos(q3), -sin(q3), 0],\n",
    "        [sin(q3), cos(q3), 0],\n",
    "        [0, 0, 1],\n",
    "    ])\n",
    "\n",
    "D8 = sy.Matrix([\n",
    "        [1, 0, l4],\n",
    "        [0, 1, 0],\n",
    "        [0, 0, 1],\n",
    "    ])"
   ]
  },
  {
   "cell_type": "code",
   "execution_count": 22,
   "metadata": {},
   "outputs": [
    {
     "data": {
      "text/latex": [
       "$\\displaystyle \\left[\\begin{matrix}l_{1} \\cos{\\left(q_{1} \\right)} + \\sqrt{2} l_{2} \\sin{\\left(q_{1} + q_{2} + \\frac{\\pi}{4} \\right)} + l_{2} \\sin{\\left(q_{1} + q_{2} + q_{3} \\right)}\\\\l_{1} \\sin{\\left(q_{1} \\right)} - \\sqrt{2} l_{2} \\cos{\\left(q_{1} + q_{2} + \\frac{\\pi}{4} \\right)} - l_{2} \\cos{\\left(q_{1} + q_{2} + q_{3} \\right)}\\\\q_{1} + q_{2} + q_{3} - 2 \\pi\\end{matrix}\\right]$"
      ],
      "text/plain": [
       "Matrix([\n",
       "[l1*cos(q1) + sqrt(2)*l2*sin(q1 + q2 + pi/4) + l2*sin(q1 + q2 + q3)],\n",
       "[l1*sin(q1) - sqrt(2)*l2*cos(q1 + q2 + pi/4) - l2*cos(q1 + q2 + q3)],\n",
       "[                                               q1 + q2 + q3 - 2*pi]])"
      ]
     },
     "metadata": {},
     "output_type": "display_data"
    }
   ],
   "source": [
    "# 足先（エンドエフェクター）の位置\n",
    "D_end = D1 * D2 * D3 * D4 * D5 * D6 * D7 * D8\n",
    "D_end = sy.simplify(D_end)\n",
    "\n",
    "phi = sy.Symbol('phi')\n",
    "phi = q1 + q2 + q3 -2*pi\n",
    "\n",
    "ee = sy.Matrix([\n",
    "    [D_end[0, 2]],\n",
    "    [D_end[1, 2]],\n",
    "    [phi]\n",
    "])\n",
    "display(ee)"
   ]
  },
  {
   "cell_type": "code",
   "execution_count": 23,
   "metadata": {},
   "outputs": [],
   "source": [
    "jacobi = ee.jacobian(qvec)\n",
    "jacobi = sy.simplify(jacobi)"
   ]
  },
  {
   "cell_type": "markdown",
   "metadata": {},
   "source": [
    "結果を表示"
   ]
  },
  {
   "cell_type": "code",
   "execution_count": 24,
   "metadata": {},
   "outputs": [
    {
     "data": {
      "text/latex": [
       "$\\displaystyle \\left[\\begin{matrix}- l_{1} \\sin{\\left(q_{1} \\right)} + \\sqrt{2} l_{2} \\cos{\\left(q_{1} + q_{2} + \\frac{\\pi}{4} \\right)} + l_{2} \\cos{\\left(q_{1} + q_{2} + q_{3} \\right)} & l_{2} \\left(\\sqrt{2} \\cos{\\left(q_{1} + q_{2} + \\frac{\\pi}{4} \\right)} + \\cos{\\left(q_{1} + q_{2} + q_{3} \\right)}\\right) & l_{2} \\cos{\\left(q_{1} + q_{2} + q_{3} \\right)}\\\\l_{1} \\cos{\\left(q_{1} \\right)} + \\sqrt{2} l_{2} \\sin{\\left(q_{1} + q_{2} + \\frac{\\pi}{4} \\right)} + l_{2} \\sin{\\left(q_{1} + q_{2} + q_{3} \\right)} & l_{2} \\left(\\sqrt{2} \\sin{\\left(q_{1} + q_{2} + \\frac{\\pi}{4} \\right)} + \\sin{\\left(q_{1} + q_{2} + q_{3} \\right)}\\right) & l_{2} \\sin{\\left(q_{1} + q_{2} + q_{3} \\right)}\\\\1 & 1 & 1\\end{matrix}\\right]$"
      ],
      "text/plain": [
       "Matrix([\n",
       "[-l1*sin(q1) + sqrt(2)*l2*cos(q1 + q2 + pi/4) + l2*cos(q1 + q2 + q3), l2*(sqrt(2)*cos(q1 + q2 + pi/4) + cos(q1 + q2 + q3)), l2*cos(q1 + q2 + q3)],\n",
       "[ l1*cos(q1) + sqrt(2)*l2*sin(q1 + q2 + pi/4) + l2*sin(q1 + q2 + q3), l2*(sqrt(2)*sin(q1 + q2 + pi/4) + sin(q1 + q2 + q3)), l2*sin(q1 + q2 + q3)],\n",
       "[                                                                  1,                                                    1,                    1]])"
      ]
     },
     "metadata": {},
     "output_type": "display_data"
    }
   ],
   "source": [
    "display(jacobi)"
   ]
  }
 ],
 "metadata": {
  "interpreter": {
   "hash": "f4dfc3534a11df64ca8ab5b1d0d5f00bece38226cd6557b9a8a26359d97dd2dd"
  },
  "kernelspec": {
   "display_name": "Python 3.8.8 64-bit ('base': conda)",
   "name": "python3"
  },
  "language_info": {
   "codemirror_mode": {
    "name": "ipython",
    "version": 3
   },
   "file_extension": ".py",
   "mimetype": "text/x-python",
   "name": "python",
   "nbconvert_exporter": "python",
   "pygments_lexer": "ipython3",
   "version": "3.8.8"
  },
  "orig_nbformat": 4
 },
 "nbformat": 4,
 "nbformat_minor": 2
}
